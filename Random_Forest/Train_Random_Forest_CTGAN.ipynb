{
  "nbformat": 4,
  "nbformat_minor": 0,
  "metadata": {
    "colab": {
      "provenance": []
    },
    "kernelspec": {
      "name": "python3",
      "display_name": "Python 3"
    },
    "language_info": {
      "name": "python"
    }
  },
  "cells": [
    {
      "cell_type": "code",
      "execution_count": null,
      "metadata": {
        "id": "b_dmNPQmoSNA"
      },
      "outputs": [],
      "source": [
        "import pandas as pd\n",
        "import numpy as np\n",
        "import matplotlib.pyplot as plt\n",
        "import seaborn as sns\n",
        "from sklearn.ensemble import RandomForestClassifier\n",
        "from sklearn.model_selection import train_test_split, GridSearchCV\n",
        "from sklearn.compose import ColumnTransformer\n",
        "from sklearn.pipeline import Pipeline\n",
        "from sklearn.metrics import precision_recall_curve, roc_curve, auc, accuracy_score, classification_report, confusion_matrix, ConfusionMatrixDisplay, average_precision_score, silhouette_score, precision_score, recall_score, f1_score\n",
        "from sklearn.preprocessing import StandardScaler, OneHotEncoder, LabelEncoder, label_binarize\n",
        "from sklearn.multiclass import OneVsRestClassifier\n",
        "from sklearn.metrics import RocCurveDisplay, PrecisionRecallDisplay\n",
        "import pickle\n",
        "from sdv.single_table import CTGANSynthesizer\n",
        "from sdv.metadata import Metadata\n",
        "from sklearn.cluster import KMeans"
      ]
    },
    {
      "cell_type": "code",
      "source": [
        "# Load in Data\n",
        "df = pd.read_csv('train_data_ads.csv')"
      ],
      "metadata": {
        "id": "dgfFAaPtoWuY"
      },
      "execution_count": null,
      "outputs": []
    },
    {
      "cell_type": "code",
      "source": [
        "# Set up the same training and testing data as before\n",
        "df_numeric = df.select_dtypes(include=[float, int])\n",
        "\n",
        "X_all = df_numeric.drop(columns=['gender'])\n",
        "y_all = df_numeric['gender']\n",
        "\n",
        "X_train_all, X_test_all, y_train_all, y_test_all = train_test_split(X_all, y_all, test_size=0.3, random_state=13)\n",
        "\n",
        "selected_features_x = ['emui_dev', 'series_group', 'residence', 'age', 'city']\n",
        "\n",
        "X_train = X_train_all[selected_features_x]\n",
        "X_test = X_test_all[selected_features_x]"
      ],
      "metadata": {
        "id": "LIBUY4Impwo4"
      },
      "execution_count": null,
      "outputs": []
    },
    {
      "cell_type": "code",
      "source": [
        "# Create metadata file for CTGAN\n",
        "train_data = pd.concat([X_train, y_train_all], axis=1)\n",
        "\n",
        "metadata = Metadata.detect_from_dataframe(df_top, table_name=\"CTR\")\n",
        "metadata.update_column('city', sdtype='numerical')\n",
        "metadata.update_column('series_group', sdtype='numerical')\n",
        "metadata.update_column('age', sdtype='numerical')\n",
        "metadata.update_column('gender', sdtype='numerical')\n",
        "metadata"
      ],
      "metadata": {
        "id": "re9VeodLoi7A"
      },
      "execution_count": null,
      "outputs": []
    },
    {
      "cell_type": "code",
      "source": [
        "# Run CTGAN to generate synthetic data\n",
        "ctgan = CTGANSynthesizer(metadata,epochs=100)\n",
        "ctgan.fit(train_data)"
      ],
      "metadata": {
        "id": "7Qnp2xweqEII"
      },
      "execution_count": null,
      "outputs": []
    },
    {
      "cell_type": "code",
      "source": [
        "# Sample the generated synthetic data\n",
        "synthetic_data = ctgan.sample(len(train_data))\n",
        "synthetic_data.to_csv('RF_Top5_CTGAN_data.csv', index=False) # Save for use by other models\n",
        "synthetic_X = synthetic_data.drop(columns=['gender'])\n",
        "synthetic_y = synthetic_data['gender']"
      ],
      "metadata": {
        "id": "jnJ5SkT7qKVH"
      },
      "execution_count": null,
      "outputs": []
    },
    {
      "cell_type": "code",
      "source": [
        "# Train one model on just the synthetic data\n",
        "rf_ctgan_synth = RandomForestClassifier(random_state=13)\n",
        "rf_ctgan_synth.fit(synthetic_X, synthetic_y)"
      ],
      "metadata": {
        "id": "B7qgzlfUqbkl"
      },
      "execution_count": null,
      "outputs": []
    },
    {
      "cell_type": "code",
      "source": [
        "# Train another model on the combination of real and synthetic data\n",
        "X_train_combined = pd.concat([X_train, synthetic_X])\n",
        "y_train_combined = pd.concat([y_train_all, synthetic_y])\n",
        "\n",
        "rf_ctgan_combo = RandomForestClassifier(random_state=13)\n",
        "rf_ctgan_combo.fit(X_train_combined, y_train_combined)"
      ],
      "metadata": {
        "id": "zq-5pKmfqj0h"
      },
      "execution_count": null,
      "outputs": []
    },
    {
      "cell_type": "code",
      "source": [
        "# Report Performance of model on CTGAN synthetic data\n",
        "\n",
        "y_pred_synth = rf_ctgan_synth.predict(X_test)\n",
        "\n",
        "accuracy_ctgan_synth = accuracy_score(y_test_all, y_pred_synth)\n",
        "class_report_ctgan_synth = classification_report(y_test_all, y_pred_synth)\n",
        "\n",
        "print(\"Accuracy:\", accuracy_ctgan_synth)\n",
        "print(\"Classification Report:\\n\", class_report_ctgan_synth)"
      ],
      "metadata": {
        "id": "BzheEOP9qsq2"
      },
      "execution_count": null,
      "outputs": []
    },
    {
      "cell_type": "code",
      "source": [
        "# Report Performance of model on CTGAN combination of real and synthetic data\n",
        "\n",
        "y_pred_combo = rf_ctgan_combo.predict(X_test)\n",
        "\n",
        "accuracy_ctgan_combo = accuracy_score(y_test_all, y_pred_combo)\n",
        "class_report_ctgan_combo = classification_report(y_test_all, y_pred_combo)\n",
        "\n",
        "print(\"Accuracy:\", accuracy_ctgan_combo)\n",
        "print(\"Classification Report:\\n\", class_report_ctgan_combo)"
      ],
      "metadata": {
        "id": "PsQSPZiLqyKJ"
      },
      "execution_count": null,
      "outputs": []
    },
    {
      "cell_type": "code",
      "source": [
        "# Precision-Recall for model trained on combination of real and synthetic data - Utility\n",
        "\n",
        "y_test_bin = label_binarize(y_test_all, classes=[2, 3, 4])\n",
        "y_pred_proba = rf_ctgan_combo.predict_proba(X_test)\n",
        "n_classes = y_test_bin.shape[1]\n",
        "\n",
        "colors = ['blue', 'gold', 'red']\n",
        "\n",
        "plt.figure(figsize=(12, 10))\n",
        "for i in range(n_classes):\n",
        "    precision, recall, _ = precision_recall_curve(y_test_bin[:, i], y_pred_proba[:, i])\n",
        "    average_precision = average_precision_score(y_test_bin[:, i], y_pred_proba[:, i])\n",
        "    display = PrecisionRecallDisplay(precision=precision, recall=recall)\n",
        "    display.plot(ax=plt.gca(), label=f'Gender {i + 2}', color=colors[i])\n",
        "\n",
        "plt.title('Precision-Recall Curve for CTGANSynthesizer-Trained Random Forest', fontsize=18)\n",
        "plt.xlabel('Recall', fontsize=18)\n",
        "plt.ylabel('Precision', fontsize=18)\n",
        "plt.legend(loc = 'lower left', fontsize=14)\n",
        "plt.grid(True)\n",
        "plt.tight_layout()\n",
        "plt.savefig('ctgan_prec_rec_curve.pdf')\n",
        "plt.close()"
      ],
      "metadata": {
        "id": "XmcRgFGIq3KW"
      },
      "execution_count": null,
      "outputs": []
    },
    {
      "cell_type": "code",
      "source": [
        "# ROC for model trained on combination of real and synthetic data - Utility\n",
        "\n",
        "plt.figure(figsize=(12, 10))\n",
        "\n",
        "for i in range(n_classes):\n",
        "    fpr, tpr, _ = roc_curve(y_test_bin[:, i], y_pred_proba[:, i])\n",
        "    roc_auc = auc(fpr, tpr)\n",
        "    display = RocCurveDisplay(fpr=fpr, tpr=tpr, roc_auc=roc_auc, estimator_name=f'Class {i + 2}')\n",
        "    display.plot(ax=plt.gca(), label=f'Gender {i + 2} (AUC={roc_auc:.2f})', color=colors[i])\n",
        "\n",
        "plt.axline((0, 0), slope=1, color='black', linestyle='--')\n",
        "plt.title('ROC Curve for CTGANSynthesizer-Trained Random Forest', fontsize=18)\n",
        "plt.xlabel('False Positive Rate', fontsize=18)\n",
        "plt.ylabel('True Positive Rate', fontsize=18)\n",
        "plt.legend(fontsize=12)\n",
        "plt.grid(True)\n",
        "plt.tight_layout()\n",
        "plt.savefig('ctgan_roc_curve.pdf')\n",
        "plt.close()"
      ],
      "metadata": {
        "id": "ZWKFo7-a0urj"
      },
      "execution_count": null,
      "outputs": []
    },
    {
      "cell_type": "code",
      "source": [
        "# Confusion matrix to show performance - Utility\n",
        "\n",
        "plt.figure(figsize=(8, 8))\n",
        "cm = confusion_matrix(y_test_all, y_pred_combo)\n",
        "disp = ConfusionMatrixDisplay(confusion_matrix=cm, display_labels=[2, 3, 4])\n",
        "disp.plot(cmap='Blues', values_format='d')\n",
        "plt.title('Confusion Matrix', fontsize=12)\n",
        "plt.savefig('ctgan_confmat.pdf')\n",
        "plt.close()"
      ],
      "metadata": {
        "id": "wMXW4crX0z1d"
      },
      "execution_count": null,
      "outputs": []
    },
    {
      "cell_type": "code",
      "source": [
        "# Observe the feature importances of each feature used\n",
        "\n",
        "feature_importances = rf_ctgan_combo.feature_importances_\n",
        "feature_names = X_train.columns\n",
        "sorted_indices = feature_importances.argsort()[::-1]\n",
        "\n",
        "plt.figure(figsize=(10, 8))\n",
        "plt.barh(range(5), feature_importances[sorted_indices[:5]], align='center', color='gold')\n",
        "plt.bar_label(plt.gca().containers[0], label_type='center')\n",
        "plt.yticks(range(5), feature_names[sorted_indices[:5]])\n",
        "plt.xlabel('Feature Importance', fontsize=18)\n",
        "plt.title('Top 5 Feature Importances', fontsize=20)\n",
        "plt.tight_layout()\n",
        "plt.savefig('ctgan_featimp.pdf')\n",
        "plt.close()"
      ],
      "metadata": {
        "id": "Tyy720Ol0_aI"
      },
      "execution_count": null,
      "outputs": []
    },
    {
      "cell_type": "code",
      "source": [
        "# Compare distributions of original and synthetic data - Fidelity\n",
        "\n",
        "feature = 'emui_dev'  # Change feature to whatever you want to test\n",
        "plt.figure(figsize=(12, 8))\n",
        "plt.hist(X_train[feature], bins=30, alpha=0.5, label='Original', color = 'blue')\n",
        "plt.hist(synthetic_X[feature], bins=30, alpha=0.5, label='Synthetic', color = 'gold')\n",
        "plt.legend(fontsize=14)\n",
        "plt.title(f'Distribution of {feature}', fontsize=20)\n",
        "plt.xlabel(feature, fontsize=16)\n",
        "plt.ylabel('Frequency', fontsize=16)\n",
        "plt.grid(True, linestyle='--', alpha=0.6)\n",
        "plt.tight_layout()\n",
        "plt.savefig('data_dist1.pdf')\n",
        "plt.close()"
      ],
      "metadata": {
        "id": "pvv1lX6T1Fw9"
      },
      "execution_count": null,
      "outputs": []
    },
    {
      "cell_type": "code",
      "source": [
        "# Comparing data correlations between original and synthetic - Fidelity\n",
        "\n",
        "corr_original = X_train.corr()\n",
        "corr_synthetic = synthetic_X.corr()\n",
        "\n",
        "fig, ax = plt.subplots(1, 2, figsize=(16, 8))\n",
        "\n",
        "sns.heatmap(\n",
        "    corr_original,\n",
        "    ax=ax[0],\n",
        "    cmap='Greens',\n",
        "    cbar=False,\n",
        "    annot=True,\n",
        "    fmt=\".2f\",\n",
        "    annot_kws={\"size\": 10}\n",
        ")\n",
        "ax[0].set_title('Original Data Correlation', fontsize=20)\n",
        "\n",
        "sns.heatmap(\n",
        "    corr_synthetic,\n",
        "    ax=ax[1],\n",
        "    cmap='Greens',\n",
        "    cbar=False,\n",
        "    annot=True,\n",
        "    fmt=\".2f\",\n",
        "    annot_kws={\"size\": 10}\n",
        ")\n",
        "ax[1].set_title('Synthetic Data Correlation', fontsize=20)\n",
        "\n",
        "plt.tight_layout()\n",
        "plt.savefig('ctgan_correlations.pdf')\n",
        "plt.close()"
      ],
      "metadata": {
        "id": "OBPiucCz1VG6"
      },
      "execution_count": null,
      "outputs": []
    },
    {
      "cell_type": "code",
      "source": [
        "# Test Privacy with Unsupervised membership inference attack\n",
        "\n",
        "combined_data = pd.concat([X_train, synthetic_X])\n",
        "labels = np.concatenate([np.ones(len(X_train)), np.zeros(len(synthetic_X))])\n",
        "\n",
        "# Scale the data for better clustering\n",
        "scaler = StandardScaler()\n",
        "scaled_data = scaler.fit_transform(combined_data)\n",
        "\n",
        "# Split data into train and test\n",
        "X_train_split, X_test_split, y_train_split, y_test_split = train_test_split(scaled_data, labels, test_size=0.3, random_state=13)\n",
        "\n",
        "# K-Means clustering\n",
        "kmeans = KMeans(n_clusters=2, random_state=13)\n",
        "kmeans.fit(X_train_split)\n",
        "\n",
        "# Predict on test data\n",
        "cluster_labels_test = kmeans.predict(X_test_split)\n",
        "\n",
        "# Map clusters to original labels based on the training data\n",
        "mapping = {}\n",
        "for cluster in range(2):\n",
        "    majority_label = int(np.round(y_train_split[kmeans.labels_ == cluster].mean()))\n",
        "    mapping[cluster] = majority_label\n",
        "\n",
        "# Assign predictions based off the clusters\n",
        "predicted_labels_test = np.array([mapping[label] for label in cluster_labels_test])\n",
        "\n",
        "# Performance metrics\n",
        "precision = precision_score(y_test_split, predicted_labels_test)\n",
        "recall = recall_score(y_test_split, predicted_labels_test)\n",
        "accuracy = accuracy_score(y_test_split, predicted_labels_test)\n",
        "f1 = f1_score(y_test_split, predicted_labels_test)\n",
        "fpr, tpr, _ = roc_curve(y_test_split, predicted_labels_test)\n",
        "roc_auc = auc(fpr, tpr)\n",
        "\n",
        "# Confusion Matrix\n",
        "cm = confusion_matrix(y_test_split, predicted_labels_test)\n",
        "disp = ConfusionMatrixDisplay(confusion_matrix=cm, display_labels=[\"Synthetic\", \"Real\"])\n",
        "disp.plot(cmap='Blues')\n",
        "plt.title(\"Confusion Matrix for K-Means Clustering\")\n",
        "plt.savefig('ctgan_unsupervised_privacy_cf.pdf')\n",
        "plt.close()\n",
        "\n",
        "# ROC\n",
        "plt.figure(figsize=(8, 6))\n",
        "plt.plot(fpr, tpr, label=f'Clustering Attack (AUC = {roc_auc:.2f})')\n",
        "plt.plot([0, 1], [0, 1], 'k--')\n",
        "plt.xlabel('False Positive Rate')\n",
        "plt.ylabel('True Positive Rate')\n",
        "plt.title('ROC Curve for Unsupervised Membership Inference Attack')\n",
        "plt.legend()\n",
        "plt.savefig('ctgan_unsupervised_privacy_roc.pdf')\n",
        "plt.close()\n",
        "\n",
        "print(f'Precision: {precision:.2f}')\n",
        "print(f'Recall: {recall:.2f}')\n",
        "print(f'Accuracy: {accuracy:.2f}')\n",
        "print(f'F1-Score: {f1:.2f}')\n",
        "print(f'AUC for Unsupervised Privacy Attack: {roc_auc:.2f}')"
      ],
      "metadata": {
        "id": "rL2CuAeo2aY0"
      },
      "execution_count": null,
      "outputs": []
    }
  ]
}