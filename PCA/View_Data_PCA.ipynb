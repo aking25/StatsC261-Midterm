{
  "nbformat": 4,
  "nbformat_minor": 0,
  "metadata": {
    "colab": {
      "provenance": []
    },
    "kernelspec": {
      "name": "python3",
      "display_name": "Python 3"
    },
    "language_info": {
      "name": "python"
    }
  },
  "cells": [
    {
      "cell_type": "code",
      "execution_count": null,
      "metadata": {
        "id": "vIjuKbmEkukU"
      },
      "outputs": [],
      "source": [
        "import pandas as pd\n",
        "import numpy as np\n",
        "import matplotlib.pyplot as plt\n",
        "from sklearn.ensemble import RandomForestClassifier\n",
        "from sklearn.model_selection import train_test_split, GridSearchCV\n",
        "from sklearn.compose import ColumnTransformer\n",
        "from sklearn.pipeline import Pipeline\n",
        "from sklearn.metrics import precision_recall_curve, roc_curve, auc, accuracy_score, classification_report, confusion_matrix, average_precision_score\n",
        "from sklearn.preprocessing import StandardScaler, OneHotEncoder, LabelEncoder, label_binarize\n",
        "from sklearn.decomposition import PCA\n",
        "from sklearn.multiclass import OneVsRestClassifier\n",
        "from sklearn.metrics import RocCurveDisplay, PrecisionRecallDisplay\n",
        "import pickle"
      ]
    },
    {
      "cell_type": "code",
      "source": [
        "# Load in Data\n",
        "df = pd.read_csv('train_data_ads.csv')\n",
        "categorical_features = df.select_dtypes(include=['object']).columns\n",
        "numerical_features = df.select_dtypes(include=[float, int]).columns"
      ],
      "metadata": {
        "id": "AB-WUkzplR9g"
      },
      "execution_count": null,
      "outputs": []
    },
    {
      "cell_type": "code",
      "source": [
        "# One hot encode the categorical features\n",
        "def limit_onehot(df, columns, top_n=10):\n",
        "    for col in columns:\n",
        "        top_categories = df[col].value_counts().nlargest(top_n).index\n",
        "        df[col] = df[col].where(df[col].isin(top_categories), other='Other')\n",
        "    return df\n",
        "\n",
        "df = limit_onehot(df, categorical_features, top_n=10)"
      ],
      "metadata": {
        "id": "FHAM5IljlalR"
      },
      "execution_count": null,
      "outputs": []
    },
    {
      "cell_type": "code",
      "source": [
        "# Create a processor to handle transformed data\n",
        "preprocessor = ColumnTransformer(\n",
        "    transformers=[\n",
        "        ('num', StandardScaler(), numerical_features),\n",
        "        ('cat', OneHotEncoder(drop='first', sparse_output=False), categorical_features)\n",
        "    ])"
      ],
      "metadata": {
        "id": "w-uurjXmlm4B"
      },
      "execution_count": null,
      "outputs": []
    },
    {
      "cell_type": "code",
      "source": [
        "# Run PCA\n",
        "pipeline = Pipeline(steps=[\n",
        "    ('preprocessor', preprocessor),\n",
        "    ('pca', PCA(n_components=2))\n",
        "])\n",
        "\n",
        "pca = pipeline.fit_transform(df)"
      ],
      "metadata": {
        "id": "GV43LMkdl-dt"
      },
      "execution_count": null,
      "outputs": []
    },
    {
      "cell_type": "code",
      "source": [
        "# Find how much variance is explained by the first two PCs\n",
        "explained_variance_ratio = pipeline.named_steps['pca'].explained_variance_ratio_\n",
        "print(f'Explained variance by component: {explained_variance_ratio}')"
      ],
      "metadata": {
        "id": "mb6mcpjFmiBu"
      },
      "execution_count": null,
      "outputs": []
    },
    {
      "cell_type": "code",
      "source": [
        "# Visualize PCA\n",
        "gender_colors = df['gender'].map({2: 'blue', 3: 'yellow', 4: 'red'})\n",
        "\n",
        "plt.figure(figsize=(8, 6))\n",
        "colors = {'(2)': 'blue', '(3)': 'yellow', '(4)': 'red'}\n",
        "legend_labels = [plt.Line2D([0], [0], marker='o', color='w', markerfacecolor=color, markersize=10)\n",
        "                 for color in colors.values()]\n",
        "plt.legend(legend_labels, colors.keys(), title=\"Gender\")\n",
        "plt.scatter(pca[:, 0], pca[:, 1], alpha=0.05, c=gender_colors)\n",
        "plt.xlabel('Principal Component 1')\n",
        "plt.ylabel('Principal Component 2')\n",
        "plt.title('PCA Scatterplot of First Two Components')\n",
        "plt.grid(True)\n",
        "# Save\n",
        "plt.savefig('ads_pca.pdf')\n",
        "plt.close()"
      ],
      "metadata": {
        "id": "G3MpYPdEmnbz"
      },
      "execution_count": null,
      "outputs": []
    },
    {
      "cell_type": "code",
      "source": [
        "# Find how well gender correlates on our PCA\n",
        "correlations = np.corrcoef(pca.T, df['gender'])[0:2, -1]\n",
        "print(\"Correlation of PC1 with gender:\", correlations[0])\n",
        "print(\"Correlation of PC2 with gender:\", correlations[1])"
      ],
      "metadata": {
        "id": "1Iq5G7dvm_8H"
      },
      "execution_count": null,
      "outputs": []
    }
  ]
}