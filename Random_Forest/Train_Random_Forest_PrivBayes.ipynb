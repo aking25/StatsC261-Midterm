{
  "nbformat": 4,
  "nbformat_minor": 0,
  "metadata": {
    "colab": {
      "provenance": []
    },
    "kernelspec": {
      "name": "python3",
      "display_name": "Python 3"
    },
    "language_info": {
      "name": "python"
    }
  },
  "cells": [
    {
      "cell_type": "code",
      "execution_count": null,
      "metadata": {
        "id": "utOcWqyW56CC"
      },
      "outputs": [],
      "source": [
        "import pandas as pd\n",
        "import numpy as np\n",
        "import matplotlib.pyplot as plt\n",
        "import seaborn as sns\n",
        "from sklearn.ensemble import RandomForestClassifier\n",
        "from sklearn.model_selection import train_test_split, GridSearchCV\n",
        "from sklearn.compose import ColumnTransformer\n",
        "from sklearn.pipeline import Pipeline\n",
        "from sklearn.metrics import precision_recall_curve, roc_curve, auc, accuracy_score, classification_report, confusion_matrix, ConfusionMatrixDisplay, average_precision_score, silhouette_score, precision_score, recall_score, f1_score\n",
        "from sklearn.preprocessing import StandardScaler, OneHotEncoder, LabelEncoder, label_binarize\n",
        "from sklearn.multiclass import OneVsRestClassifier\n",
        "from sklearn.metrics import RocCurveDisplay, PrecisionRecallDisplay\n",
        "import pickle\n",
        "from sdv.single_table import CTGANSynthesizer\n",
        "from sdv.metadata import Metadata\n",
        "from sklearn.cluster import KMeans"
      ]
    },
    {
      "cell_type": "code",
      "source": [
        "# Load in Data\n",
        "df = pd.read_csv('train_data_ads.csv')"
      ],
      "metadata": {
        "id": "wdX_Tc-B6H_0"
      },
      "execution_count": null,
      "outputs": []
    },
    {
      "cell_type": "code",
      "source": [
        "# Set up the same training and testing data as before\n",
        "df_numeric = df.select_dtypes(include=[float, int])\n",
        "\n",
        "X_all = df_numeric.drop(columns=['gender'])\n",
        "y_all = df_numeric['gender']\n",
        "\n",
        "X_train_all, X_test_all, y_train_all, y_test_all = train_test_split(X_all, y_all, test_size=0.3, random_state=13)\n",
        "\n",
        "selected_features_x = ['emui_dev', 'series_group', 'residence', 'age', 'city']\n",
        "\n",
        "X_train = X_train_all[selected_features_x]\n",
        "X_test = X_test_all[selected_features_x]"
      ],
      "metadata": {
        "id": "wGE4d9SX6r0Z"
      },
      "execution_count": null,
      "outputs": []
    },
    {
      "cell_type": "code",
      "source": [
        "# Load in the privbayes synthetic data\n",
        "\n",
        "df_privbayes = pd.read_csv('privbayes_genderall_frac1_sgd_imp_feats_20percofreal.csv')\n",
        "print(df_privbayes['gender'].unique())"
      ],
      "metadata": {
        "id": "ErJe-liN6PW_"
      },
      "execution_count": null,
      "outputs": []
    },
    {
      "cell_type": "code",
      "source": [
        "# Select Features used for Logistic Regression on PrivBayes\n",
        "\n",
        "selected_features_pb = ['app_score', 'app_second_class', 'series_group', 'emui_dev', 'series_dev', 'gender']\n",
        "X_train_all['gender'] = y_train_all\n",
        "df_og_tr = X_train_all[selected_features_pb]\n",
        "df_og_tr_pb = pd.concat([df_privbayes, df_og_tr])\n",
        "X_train_pb = df_og_tr_pb.drop(columns=['gender'])\n",
        "y_train_pb = df_og_tr_pb['gender']\n",
        "X_test_pb = X_test_all[['app_score', 'app_second_class', 'series_group', 'emui_dev', 'series_dev']]"
      ],
      "metadata": {
        "id": "hjwhZrTF6S_f"
      },
      "execution_count": null,
      "outputs": []
    },
    {
      "cell_type": "code",
      "source": [
        "# Train Model on combination of real and synthetic PrivBayes data\n",
        "\n",
        "rf_ctgan_pb = RandomForestClassifier(random_state=13)\n",
        "rf_ctgan_pb.fit(X_train_pb, y_train_pb)"
      ],
      "metadata": {
        "id": "pCXhYmxM6tpJ"
      },
      "execution_count": null,
      "outputs": []
    },
    {
      "cell_type": "code",
      "source": [
        "# Evaluate the accuracy and obtain the classification report for the model trained on real and synthetic PrivBayes data\n",
        "\n",
        "y_pred_pb = rf_ctgan_pb.predict(X_test_pb)\n",
        "\n",
        "accuracy_ctgan_pb = accuracy_score(y_test_all, y_pred_pb)\n",
        "class_report_ctgan_pb = classification_report(y_test_all, y_pred_pb)\n",
        "\n",
        "print(\"Accuracy:\", accuracy_ctgan_pb)\n",
        "print(\"Classification Report:\\n\", class_report_ctgan_pb)"
      ],
      "metadata": {
        "id": "7khYjzYk69mE"
      },
      "execution_count": null,
      "outputs": []
    },
    {
      "cell_type": "code",
      "source": [
        "# Train the model on the real data only -- using different features\n",
        "\n",
        "X_train_pb = df_og_tr.drop(columns=['gender'])\n",
        "y_train_pb = df_og_tr['gender']\n",
        "\n",
        "rf_ctgan_pb = RandomForestClassifier(random_state=13)\n",
        "rf_ctgan_pb.fit(X_train_pb, y_train_pb)"
      ],
      "metadata": {
        "id": "3eZuL_iB7CVt"
      },
      "execution_count": null,
      "outputs": []
    },
    {
      "cell_type": "code",
      "source": [
        "# Evaluate the accuracy and obtain the classification report for the model trained on real data\n",
        "\n",
        "y_pred_pb = rf_ctgan_pb.predict(X_test_pb)\n",
        "\n",
        "accuracy_ctgan_pb = accuracy_score(y_test_all, y_pred_pb)\n",
        "class_report_ctgan_pb = classification_report(y_test_all, y_pred_pb)\n",
        "\n",
        "print(\"Accuracy:\", accuracy_ctgan_pb)\n",
        "print(\"Classification Report:\\n\", class_report_ctgan_pb)"
      ],
      "metadata": {
        "id": "0jzWk-hJ7rOf"
      },
      "execution_count": null,
      "outputs": []
    },
    {
      "cell_type": "code",
      "source": [
        "# Train the model on the PrivBayes synthetic data only\n",
        "\n",
        "X_train_pb = df_privbayes.drop(columns=['gender'])\n",
        "y_train_pb = df_privbayes['gender']\n",
        "\n",
        "rf_ctgan_pb = RandomForestClassifier(random_state=13)\n",
        "rf_ctgan_pb.fit(X_train_pb, y_train_pb)"
      ],
      "metadata": {
        "id": "SHCVEb0z7xzO"
      },
      "execution_count": null,
      "outputs": []
    },
    {
      "cell_type": "code",
      "source": [
        "# Evaluate the accuracy and obtain the classification report for the model trained on PrivBayes synthetic data\n",
        "\n",
        "y_pred_pb = rf_ctgan_pb.predict(X_test_pb)\n",
        "\n",
        "accuracy_ctgan_pb = accuracy_score(y_test_all, y_pred_pb)\n",
        "class_report_ctgan_pb = classification_report(y_test_all, y_pred_pb)\n",
        "\n",
        "print(\"Accuracy:\", accuracy_ctgan_pb)\n",
        "print(\"Classification Report:\\n\", class_report_ctgan_pb)"
      ],
      "metadata": {
        "id": "nxv8MHuU73vB"
      },
      "execution_count": null,
      "outputs": []
    }
  ]
}