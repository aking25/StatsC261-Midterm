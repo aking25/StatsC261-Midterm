{
  "nbformat": 4,
  "nbformat_minor": 0,
  "metadata": {
    "colab": {
      "provenance": []
    },
    "kernelspec": {
      "name": "python3",
      "display_name": "Python 3"
    },
    "language_info": {
      "name": "python"
    }
  },
  "cells": [
    {
      "cell_type": "code",
      "execution_count": null,
      "metadata": {
        "id": "Df7ZVXQzbDSJ"
      },
      "outputs": [],
      "source": [
        "import pandas as pd\n",
        "import numpy as np\n",
        "import matplotlib.pyplot as plt\n",
        "from sklearn.ensemble import RandomForestClassifier\n",
        "from sklearn.model_selection import train_test_split, GridSearchCV\n",
        "from sklearn.compose import ColumnTransformer\n",
        "from sklearn.pipeline import Pipeline\n",
        "from sklearn.metrics import precision_recall_curve, roc_curve, auc, accuracy_score, classification_report, confusion_matrix, average_precision_score\n",
        "from sklearn.preprocessing import StandardScaler, OneHotEncoder, LabelEncoder, label_binarize\n",
        "from sklearn.multiclass import OneVsRestClassifier\n",
        "from sklearn.metrics import RocCurveDisplay, PrecisionRecallDisplay\n",
        "import pickle"
      ]
    },
    {
      "cell_type": "code",
      "source": [
        "# Load in Data\n",
        "df = pd.read_csv('train_data_ads.csv')"
      ],
      "metadata": {
        "id": "XSn63DU_bjy0"
      },
      "execution_count": 2,
      "outputs": []
    },
    {
      "cell_type": "code",
      "source": [
        "# Split data for training\n",
        "# random forest features fit best on numeric features from prior analysis\n",
        "df_numeric = df.select_dtypes(include=[float, int])\n",
        "\n",
        "X_all = df_numeric.drop(columns=['gender'])\n",
        "y_all = df_numeric['gender']\n",
        "\n",
        "X_train_all, X_test_all, y_train_all, y_test_all = train_test_split(X_all, y_all, test_size=0.3, random_state=13)"
      ],
      "metadata": {
        "id": "ntw6JdpKb5Y6"
      },
      "execution_count": 3,
      "outputs": []
    },
    {
      "cell_type": "code",
      "source": [
        "# Train random forest on all data\n",
        "rf_all = RandomForestClassifier(random_state=13)\n",
        "rf_all.fit(X_train_all, y_train_all)"
      ],
      "metadata": {
        "id": "pMWKaCl7b_Yr"
      },
      "execution_count": null,
      "outputs": []
    },
    {
      "cell_type": "code",
      "source": [
        "# Evaluate the model\n",
        "# Find the accuracy classification report\n",
        "y_pred_all = rf_all.predict(X_test_all)\n",
        "\n",
        "accuracy_all = accuracy_score(y_test_all, y_pred_all)\n",
        "class_report_all = classification_report(y_test_all, y_pred_all)\n",
        "\n",
        "print(\"Accuracy:\", accuracy_all)\n",
        "print(\"Classification Report:\\n\", class_report_all)"
      ],
      "metadata": {
        "id": "CLn1SR4ccOwm"
      },
      "execution_count": null,
      "outputs": []
    },
    {
      "cell_type": "code",
      "source": [
        "# Identify the most important features in the dataset for the random forest\n",
        "importances = rf_all.feature_importances_\n",
        "feature_names = X_all.columns\n",
        "\n",
        "feature_importances = pd.DataFrame({'feature': feature_names, 'importance': importances})\n",
        "feature_importances = feature_importances.sort_values(by='importance', ascending=False)\n",
        "\n",
        "top_features = feature_importances.head(10)\n",
        "print(top_features)\n",
        "\n",
        "# Select the top 5 features for subsequent training\n",
        "N = 5\n",
        "selected_features = top_features['feature'].head(N).tolist()"
      ],
      "metadata": {
        "id": "InA0WqTHcdJC"
      },
      "execution_count": null,
      "outputs": []
    },
    {
      "cell_type": "code",
      "source": [
        "# Change the input and test data to correspond to the selected features\n",
        "selected_features = ['emui_dev', 'series_group', 'residence', 'age', 'city', 'gender']\n",
        "selected_features_x = ['emui_dev', 'series_group', 'residence', 'age', 'city']\n",
        "\n",
        "X_train = X_train_all[selected_features_x]\n",
        "X_test = X_test_all[selected_features_x]"
      ],
      "metadata": {
        "id": "NEz7goqGdKOS"
      },
      "execution_count": null,
      "outputs": []
    },
    {
      "cell_type": "code",
      "source": [
        "# Fit the new model and find its accuracy and classification report\n",
        "rf_classifier = RandomForestClassifier(random_state=13)\n",
        "\n",
        "rf_classifier.fit(X_train, y_train_all)\n",
        "\n",
        "y_pred = rf_classifier.predict(X_test)\n",
        "\n",
        "accuracy = accuracy_score(y_test_all, y_pred)\n",
        "class_report = classification_report(y_test_all, y_pred)\n",
        "\n",
        "print(\"Accuracy:\", accuracy)\n",
        "print(\"Classification Report:\\n\", class_report)"
      ],
      "metadata": {
        "id": "CSiNvvIZi6W5"
      },
      "execution_count": null,
      "outputs": []
    },
    {
      "cell_type": "code",
      "source": [
        "# Binarize the classes for evaluating Precision-Recall Curve and ROC\n",
        "y_train_bin = label_binarize(y_train_all, classes=[2, 3, 4])\n",
        "y_test_bin = label_binarize(y_test_all, classes=[2, 3, 4])\n",
        "\n",
        "rf_for_plot = OneVsRestClassifier(RandomForestClassifier(random_state=13))\n",
        "rf_for_plot.fit(X_train, y_train_bin)"
      ],
      "metadata": {
        "id": "kn8lhL1ujnBR"
      },
      "execution_count": null,
      "outputs": []
    },
    {
      "cell_type": "code",
      "source": [
        "# Precision-Recall Plot\n",
        "y_pred_proba = rf_for_plot.predict_proba(X_test)\n",
        "plt.figure(figsize=(12, 8))\n",
        "colors = ['blue', 'gold', 'red']\n",
        "for i, color in zip(range(3), colors):\n",
        "    precision, recall, _ = precision_recall_curve(y_test_bin[:, i], y_pred_proba[:, i])\n",
        "    pr_display = PrecisionRecallDisplay(precision=precision, recall=recall)\n",
        "    pr_display.plot(ax=plt.gca(), name=f'Gender {i + 2}', color=color)\n",
        "plt.title(\"Multi-Class Precision-Recall Curve\")\n",
        "plt.xlabel(\"Recall\")\n",
        "plt.ylabel(\"Precision\")\n",
        "plt.legend()\n",
        "plt.grid(True)\n",
        "\n",
        "# Save\n",
        "plt.savefig('precision_recall_curve.pdf')\n",
        "plt.close()"
      ],
      "metadata": {
        "id": "xtxD_M6RkE9v"
      },
      "execution_count": null,
      "outputs": []
    },
    {
      "cell_type": "code",
      "source": [
        "# ROC Plot\n",
        "plt.figure(figsize=(12, 8))\n",
        "for i, color in zip(range(3), colors):\n",
        "    fpr, tpr, _ = roc_curve(y_test_bin[:, i], y_pred_proba[:, i])\n",
        "    roc_auc = auc(fpr, tpr)\n",
        "    roc_display = RocCurveDisplay(fpr=fpr, tpr=tpr, roc_auc=roc_auc)\n",
        "    roc_display.plot(ax=plt.gca(), name=f'Gender {i + 2}', color=color)\n",
        "plt.title(\"Multi-Class ROC Curve\")\n",
        "plt.xlabel(\"False Positive Rate\")\n",
        "plt.ylabel(\"True Positive Rate\")\n",
        "plt.legend()\n",
        "plt.grid(True)\n",
        "\n",
        "# Save\n",
        "plt.savefig('roc_curve.pdf')\n",
        "plt.close()"
      ],
      "metadata": {
        "id": "yuV5g47_kXt7"
      },
      "execution_count": null,
      "outputs": []
    }
  ]
}