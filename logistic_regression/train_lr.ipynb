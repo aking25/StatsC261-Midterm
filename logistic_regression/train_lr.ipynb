{
 "cells": [
  {
   "cell_type": "code",
   "execution_count": 1,
   "metadata": {},
   "outputs": [],
   "source": [
    "# packages\n",
    "import pandas as pd\n",
    "from matplotlib import pyplot as plt\n",
    "import seaborn as sns\n",
    "from sklearn.decomposition import PCA\n",
    "from sklearn.preprocessing import StandardScaler, OneHotEncoder, LabelEncoder, label_binarize\n",
    "from sklearn.compose import ColumnTransformer\n",
    "import numpy as np\n",
    "from sklearn.pipeline import Pipeline\n",
    "from sklearn.model_selection import train_test_split, GridSearchCV\n",
    "from sklearn.metrics import accuracy_score, precision_recall_curve, PrecisionRecallDisplay, roc_curve, RocCurveDisplay, auc, classification_report\n",
    "from sklearn.linear_model import LogisticRegression\n",
    "import pickle\n"
   ]
  },
  {
   "cell_type": "code",
   "execution_count": 2,
   "metadata": {},
   "outputs": [],
   "source": [
    "# load data\n",
    "train_ads = pd.read_csv('train_data_ads.csv.zip', compression='zip')"
   ]
  },
  {
   "cell_type": "code",
   "execution_count": 3,
   "metadata": {},
   "outputs": [
    {
     "name": "stdout",
     "output_type": "stream",
     "text": [
      "Categorical features: ['ad_click_list_v001', 'ad_click_list_v002', 'ad_click_list_v003', 'ad_close_list_v001', 'ad_close_list_v002', 'ad_close_list_v003', 'u_newsCatInterestsST']\n",
      "Numerical features: ['log_id', 'label', 'user_id', 'age', 'gender', 'residence', 'city', 'city_rank', 'series_dev', 'series_group', 'emui_dev', 'device_name', 'device_size', 'net_type', 'task_id', 'adv_id', 'creat_type_cd', 'adv_prim_id', 'inter_type_cd', 'slot_id', 'site_id', 'spread_app_id', 'hispace_app_tags', 'app_second_class', 'app_score', 'pt_d', 'u_refreshTimes', 'u_feedLifeCycle']\n",
      "2    5946172\n",
      "4    1178908\n",
      "3     550437\n",
      "Name: gender, dtype: int64\n"
     ]
    }
   ],
   "source": [
    "categorical_features = train_ads.select_dtypes(include=['object', 'category']).columns\n",
    "numerical_features = train_ads.select_dtypes(include=[np.number]).columns\n",
    "\n",
    "print(f\"Categorical features: {list(categorical_features)}\")\n",
    "print(f\"Numerical features: {list(numerical_features)}\")\n",
    "print(train_ads.gender.value_counts())"
   ]
  },
  {
   "cell_type": "code",
   "execution_count": 4,
   "metadata": {},
   "outputs": [],
   "source": [
    "X = train_ads.drop(['gender'], axis=1)\n",
    "y = train_ads['gender']\n",
    "X_train, X_test, y_train, y_test = train_test_split(X, y, test_size=0.3, random_state=1)"
   ]
  },
  {
   "cell_type": "code",
   "execution_count": 8,
   "metadata": {},
   "outputs": [],
   "source": [
    "# classifier and grid search params\n",
    "lr = LogisticRegression(random_state=1, class_weight='balanced')\n",
    "preprocessor = ColumnTransformer(\n",
    "    transformers=[\n",
    "        ('cat', OneHotEncoder(handle_unknown='ignore'), ['ad_click_list_v001'])  # One-hot encode \n",
    "    ]\n",
    ")\n",
    "pipeline = Pipeline(steps=[\n",
    "    ('preprocessor', preprocessor),\n",
    "    ('classifier', lr)\n",
    "])\n",
    "\n",
    "param_grid = {\n",
    "    'classifier__penalty': ['l2'],\n",
    "    'classifier__solver': ['saga'],\n",
    "    'classifier__C': np.arange(0.1, 1, 0.1),\n",
    "    'classifier__warm_start': [True],\n",
    "    'classifier__max_iter': [1000]\n",
    "}\n",
    "grid_search = GridSearchCV(\n",
    "    estimator=pipeline,\n",
    "    param_grid=param_grid,\n",
    "    cv=5,\n",
    "    n_jobs=-1,\n",
    "    verbose=3\n",
    ")"
   ]
  },
  {
   "cell_type": "code",
   "execution_count": 9,
   "metadata": {},
   "outputs": [
    {
     "name": "stdout",
     "output_type": "stream",
     "text": [
      "Fitting 5 folds for each of 1 candidates, totalling 5 fits\n"
     ]
    }
   ],
   "source": [
    "# run this cell to fit grid search on sgd important features\n",
    "features_sgd =  ['app_score', 'app_second_class', 'series_group', 'emui_dev', 'series_dev']\n",
    "grid_search.fit(X_train[features_sgd], y_train)"
   ]
  },
  {
   "cell_type": "code",
   "execution_count": null,
   "metadata": {},
   "outputs": [],
   "source": [
    "# run this cell to fit grid search on just ad click list v001\n",
    "features_adclick = ['ad_click_list_v001']\n",
    "grid_search.fit(X_train[features_adclick], y_train)"
   ]
  },
  {
   "cell_type": "code",
   "execution_count": null,
   "metadata": {},
   "outputs": [],
   "source": [
    "# run this cell to fit grid search on categorical and ad click list v001\n",
    "features_cat_adclick = ['city', 'app_score', 'age', 'ad_click_list_v001']\n",
    "grid_search.fit(X_train[features_cat_adclick], y_train)"
   ]
  },
  {
   "cell_type": "code",
   "execution_count": null,
   "metadata": {},
   "outputs": [],
   "source": [
    "print(f\"Best Parameters: {grid_search.best_params_}\")\n",
    "best_model = grid_search.best_estimator_\n",
    "\n",
    "y_pred = best_model.predict(X_test[features_adclick]) # change features based on which ones used for training\n",
    "test_accuracy = accuracy_score(y_test, y_pred)\n",
    "\n",
    "print(f\"Test Accuracy: {test_accuracy:.4f}\")"
   ]
  },
  {
   "cell_type": "code",
   "execution_count": 9,
   "metadata": {},
   "outputs": [
    {
     "name": "stdout",
     "output_type": "stream",
     "text": [
      "Precision for 2: [0.79011675 0.79012085 0.79015584 ... 1.         1.         1.        ]\n",
      "Recall for 2: [1.00000000e+00 9.99999440e-01 9.99999440e-01 ... 5.80601303e-04\n",
      " 2.99827893e-04 0.00000000e+00]\n",
      "Precision for 3: [0.08076355 0.08077195 0.08077361 ... 1.         1.         1.        ]\n",
      "Recall for 3: [1.00000000e+00 9.99993948e-01 9.99993948e-01 ... 8.89620489e-04\n",
      " 4.78095365e-04 0.00000000e+00]\n",
      "Precision for 4: [0.15912248 0.15912812 0.15913322 ... 1.         1.         1.        ]\n",
      "Recall for 4: [1.         0.99999717 0.99999717 ... 0.00213278 0.00115561 0.        ]\n"
     ]
    },
    {
     "data": {
      "image/png": "[encoded data removed]",
      "text/plain": [
       "<Figure size 720x504 with 1 Axes>"
      ]
     },
     "metadata": {
      "needs_background": "light"
     },
     "output_type": "display_data"
    }
   ],
   "source": [
    "# Binarize the labels (One-vs-Rest) for precision-recall calculation\n",
    "y_test_bin = label_binarize(y_test, classes=[2, 3, 4])\n",
    "\n",
    "# Step 4: Get predicted probabilities for each class\n",
    "y_prob = best_model.predict_proba(X_test[features_adclick])\n",
    "\n",
    "# Step 5: Plot Precision-Recall curves for each class\n",
    "plt.figure(figsize=(10, 7))\n",
    "\n",
    "for i in range(y_prob.shape[1]):\n",
    "    precision, recall, _ = precision_recall_curve(y_test_bin[:, i], y_prob[:, i])\n",
    "    print(f'Precision for {i+2}: {precision}')\n",
    "    print(f'Recall for {i+2}: {recall}')\n",
    "    display = PrecisionRecallDisplay(precision=precision, recall=recall)\n",
    "    display.plot(ax=plt.gca(), name=f'Class {i+2}')\n",
    "\n",
    "# Step 6: Add plot details\n",
    "plt.title('Multiclass Precision-Recall Curve')\n",
    "plt.grid(True)\n",
    "plt.show()"
   ]
  },
  {
   "cell_type": "code",
   "execution_count": 10,
   "metadata": {},
   "outputs": [
    {
     "data": {
      "image/png": "[encoded data removed]",
      "text/plain": [
       "<Figure size 720x504 with 1 Axes>"
      ]
     },
     "metadata": {
      "needs_background": "light"
     },
     "output_type": "display_data"
    }
   ],
   "source": [
    "plt.figure(figsize=(10, 7))\n",
    "for i in range(y_prob.shape[1]):\n",
    "    fpr, tpr, _ = roc_curve(y_test_bin[:, i], y_prob[:, i])\n",
    "    roc_auc = auc(fpr, tpr)\n",
    "    display = RocCurveDisplay(fpr=fpr, tpr=tpr, roc_auc=roc_auc, estimator_name=f'Class {i+2}')\n",
    "    display.plot(ax=plt.gca())\n",
    "\n",
    "# Step 7: Add plot details\n",
    "plt.title('Multiclass ROC Curve')\n",
    "plt.grid(True)\n",
    "plt.show()"
   ]
  },
  {
   "cell_type": "code",
   "execution_count": 11,
   "metadata": {},
   "outputs": [
    {
     "name": "stdout",
     "output_type": "stream",
     "text": [
      "              precision    recall  f1-score   support\n",
      "\n",
      "           2       1.00      0.95      0.97   1784357\n",
      "           3       0.95      0.95      0.95    165239\n",
      "           4       0.80      0.98      0.88    353060\n",
      "\n",
      "    accuracy                           0.95   2302656\n",
      "   macro avg       0.91      0.96      0.93   2302656\n",
      "weighted avg       0.96      0.95      0.96   2302656\n",
      "\n"
     ]
    }
   ],
   "source": [
    "y_pred = best_model.predict(X_test[features_adclick])\n",
    "print(classification_report(y_test, y_pred))"
   ]
  }
 ],
 "metadata": {
  "kernelspec": {
   "display_name": ".venv",
   "language": "python",
   "name": "python3"
  },
  "language_info": {
   "codemirror_mode": {
    "name": "ipython",
    "version": 3
   },
   "file_extension": ".py",
   "mimetype": "text/x-python",
   "name": "python",
   "nbconvert_exporter": "python",
   "pygments_lexer": "ipython3",
   "version": "3.8.12"
  }
 },
 "nbformat": 4,
 "nbformat_minor": 2
}
